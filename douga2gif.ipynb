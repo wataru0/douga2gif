{
 "cells": [
  {
   "cell_type": "code",
   "execution_count": 1,
   "metadata": {},
   "outputs": [],
   "source": [
    "import math\n",
    "\n",
    "import cv2\n",
    "from PIL import Image"
   ]
  },
  {
   "cell_type": "code",
   "execution_count": 2,
   "metadata": {},
   "outputs": [],
   "source": [
    "def get_fps_n_count(video_path):\n",
    "    \"\"\"動画のfpsとフレーム数を返す\"\"\"\n",
    "    cap = cv2.VideoCapture(video_path)\n",
    "    if not cap.isOpened():\n",
    "        return (None, None)\n",
    "\n",
    "    count = int(cap.get(cv2.CAP_PROP_FRAME_COUNT))\n",
    "    fps = round(cap.get(cv2.CAP_PROP_FPS))\n",
    "\n",
    "    cap.release()\n",
    "    cv2.destroyAllWindows()\n",
    "    return (fps, count)\n",
    "\n"
   ]
  },
  {
   "cell_type": "code",
   "execution_count": 3,
   "metadata": {},
   "outputs": [],
   "source": [
    "def aspect_ratio(width, height):\n",
    "    \"\"\"アスペクト比を返す\"\"\"\n",
    "    gcd = math.gcd(width, height)\n",
    "    ratio_w = width // gcd\n",
    "    ratio_h = height // gcd\n",
    "    return (ratio_w, ratio_h)\n",
    "\n",
    "\n",
    "def resize_based_on_aspect_ratio(aspect_ratio, base_width, max_width=400):\n",
    "    \"\"\"アスペクト比を元にリサイズ後のwidth, heightを求める\"\"\"\n",
    "    if base_width < max_width:\n",
    "        return None\n",
    "\n",
    "    base = max_width / aspect_ratio[0]\n",
    "    new_w = int(base * aspect_ratio[0])\n",
    "    new_h = int(base * aspect_ratio[1])\n",
    "    return (new_w, new_h)\n",
    "\n",
    "\n",
    "def get_frame_range(video_path, start_frame, stop_frame, step_frame):\n",
    "    \"\"\"指定された範囲の画像をPillowのimage objectのリストにする\"\"\"\n",
    "    cap = cv2.VideoCapture(video_path)\n",
    "    if not cap.isOpened():\n",
    "        return None\n",
    "\n",
    "    width = int(cap.get(cv2.CAP_PROP_FRAME_WIDTH))\n",
    "    height = int(cap.get(cv2.CAP_PROP_FRAME_HEIGHT))\n",
    "    asp = aspect_ratio(width, height)\n",
    "    # でかすぎてもあれなので最大幅を400にしとく\n",
    "    width_height = resize_based_on_aspect_ratio(asp, width, max_width=400)\n",
    "\n",
    "    im_list = []\n",
    "    for n in range(start_frame, stop_frame, step_frame):\n",
    "        cap.set(cv2.CAP_PROP_POS_FRAMES, n)\n",
    "        ret, frame = cap.read()\n",
    "        if ret:\n",
    "            if width_height is not None:\n",
    "                frame = cv2.resize(frame, dsize=width_height)\n",
    "            # BGRをRGBにする\n",
    "            img_array = cv2.cvtColor(frame, cv2.COLOR_BGR2RGB)\n",
    "            # numpyのarrayからPillowのimage objectを作る\n",
    "            im = Image.fromarray(img_array)\n",
    "            im_list.append(im)\n",
    "\n",
    "    cap.release()\n",
    "    cv2.destroyAllWindows()\n",
    "    return im_list\n",
    "\n",
    "\n",
    "def make_gif(filename, im_list):\n",
    "    \"\"\"gifを作る\"\"\"\n",
    "    im_list[0].save(filename, save_all=True, append_images=im_list[1:], loop=0)"
   ]
  },
  {
   "cell_type": "code",
   "execution_count": 6,
   "metadata": {},
   "outputs": [
    {
     "name": "stdout",
     "output_type": "stream",
     "text": [
      "開始(けっこう時間がかかる)\n",
      "終了\n"
     ]
    }
   ],
   "source": [
    "\"\"\"メイン処理\"\"\"\n",
    "video_file = \"./demo/openaigym.video.0.14958.video000002.mp4\"\n",
    "\n",
    "fps, count = get_fps_n_count(video_file)\n",
    "if fps is None:\n",
    "    print(\"動画ファイルを開けませんでした\")\n",
    "    \n",
    "\n",
    "# gifにしたい範囲を指定\n",
    "start_sec = 0\n",
    "stop_sec = 8\n",
    "\n",
    "start_frame = int(start_sec * fps)\n",
    "stop_frame = int(stop_sec * fps)\n",
    "# 適当(fpsに応じてうまいことやれるようにしたい)\n",
    "step_frame = 3\n",
    "\n",
    "print(\"開始(けっこう時間がかかる)\")\n",
    "im_list = get_frame_range(video_file, start_frame, stop_frame, step_frame)\n",
    "if im_list is None:\n",
    "    print(\"動画ファイルを開けませんでした\")\n",
    "    \n",
    "\n",
    "make_gif('hosyuteki.gif', im_list)\n",
    "print(\"終了\")\n",
    "\n"
   ]
  },
  {
   "cell_type": "code",
   "execution_count": null,
   "metadata": {},
   "outputs": [],
   "source": []
  }
 ],
 "metadata": {
  "kernelspec": {
   "display_name": "Python 3",
   "language": "python",
   "name": "python3"
  },
  "language_info": {
   "codemirror_mode": {
    "name": "ipython",
    "version": 3
   },
   "file_extension": ".py",
   "mimetype": "text/x-python",
   "name": "python",
   "nbconvert_exporter": "python",
   "pygments_lexer": "ipython3",
   "version": "3.8.1"
  }
 },
 "nbformat": 4,
 "nbformat_minor": 4
}
